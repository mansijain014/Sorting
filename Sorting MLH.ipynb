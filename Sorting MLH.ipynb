{
 "cells": [
  {
   "cell_type": "markdown",
   "metadata": {},
   "source": [
    "## Day 3- Local Hack Day: Build\n",
    "### Daily Challenges List (Sorted)"
   ]
  },
  {
   "cell_type": "code",
   "execution_count": 4,
   "metadata": {},
   "outputs": [],
   "source": [
    "challenges = [\"Design an Outfit for Ellie\",\n",
    "              \"!Light in your Kitchen\",\n",
    "              \"Use the Twilio API\",\n",
    "              \"Build a Data Visualization\",\n",
    "              \"Write Code to Sort a List\",\n",
    "              \"Submit a Challenge with Someone in your Guild\",\n",
    "              \"Make a Logo for a Project\",\n",
    "              \"Explore Hardware (Emulators Welcome!)\",\n",
    "              \"Build a Battlesnake\",\n",
    "              \"Share a Meal with Someone in Your Guild\"\n",
    "             ]"
   ]
  },
  {
   "cell_type": "code",
   "execution_count": 5,
   "metadata": {},
   "outputs": [],
   "source": [
    "challenges.sort()"
   ]
  },
  {
   "cell_type": "code",
   "execution_count": 6,
   "metadata": {},
   "outputs": [
    {
     "name": "stdout",
     "output_type": "stream",
     "text": [
      "['!Light in your Kitchen', 'Build a Battlesnake', 'Build a Data Visualization', 'Design an Outfit for Ellie', 'Explore Hardware (Emulators Welcome!)', 'Make a Logo for a Project', 'Share a Meal with Someone in Your Guild', 'Submit a Challenge with Someone in your Guild', 'Use the Twilio API', 'Write Code to Sort a List']\n"
     ]
    }
   ],
   "source": [
    "print(challenges)"
   ]
  },
  {
   "cell_type": "code",
   "execution_count": null,
   "metadata": {},
   "outputs": [],
   "source": []
  }
 ],
 "metadata": {
  "kernelspec": {
   "display_name": "Python 3",
   "language": "python",
   "name": "python3"
  },
  "language_info": {
   "codemirror_mode": {
    "name": "ipython",
    "version": 3
   },
   "file_extension": ".py",
   "mimetype": "text/x-python",
   "name": "python",
   "nbconvert_exporter": "python",
   "pygments_lexer": "ipython3",
   "version": "3.8.5"
  }
 },
 "nbformat": 4,
 "nbformat_minor": 4
}
